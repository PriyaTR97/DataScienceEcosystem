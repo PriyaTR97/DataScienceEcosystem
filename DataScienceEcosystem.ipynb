{
  "metadata": {
    "kernelspec": {
      "name": "python",
      "display_name": "Python (Pyodide)",
      "language": "python"
    },
    "language_info": {
      "codemirror_mode": {
        "name": "python",
        "version": 3
      },
      "file_extension": ".py",
      "mimetype": "text/x-python",
      "name": "python",
      "nbconvert_exporter": "python",
      "pygments_lexer": "ipython3",
      "version": "3.8"
    }
  },
  "nbformat_minor": 4,
  "nbformat": 4,
  "cells": [
    {
      "cell_type": "markdown",
      "source": "**Exercise 2: Create markdown cell with title of the notebook**: Create a markdown cell with the title \"Data Science Tools and Ecosystem\" using H1 style heading.\n# Data Science Tools and Ecosystem",
      "metadata": {}
    },
    {
      "cell_type": "markdown",
      "source": "**Exercise 3: Create a markdown cell for an introduction**: Write an introductory sentence about the notebook such as follows:\n\nIn this notebook, Data Science Tools and Ecosystem are summarized.\n\n**Objectives**\n- List popular languages for Data Science.\n- Identify commonly used libraries in Data Science.\n- Create tables to summarize Data Science tools.\n- Perform basic arithmetic and unit conversions.\n- Understand the importance of data science tools and ecosystems.",
      "metadata": {}
    },
    {
      "cell_type": "markdown",
      "source": "**Exercise 4 - Create a markdown cell to list data science languages**: Start the cell with an overview line such as:\n\nSome of the popular languages that Data Scientists use are:\n1. Python\n2. R\n3. SQL",
      "metadata": {}
    },
    {
      "cell_type": "markdown",
      "source": "**Exercise 5 - Create a markdown cell to list data science libraries**: Add an overview line to the cell like:\n\nSome of the commonly used libraries used by Data Scientists include:\n1. NumPy\n2. Pandas\n3. Matplotlib",
      "metadata": {}
    },
    {
      "cell_type": "markdown",
      "source": "**Exercise 6 - Create a markdown cell with a table of Data Science tools**: Create a single column table in this cell with the first row containing the header Data Science Tools. The subsequent three rows in the table should indicate three development environment open source tools used in data science.\n\n| Data Science Tools |\n|--------------------|\n| Jupyter Notebook  |\n| RStudio           |\n| Apache Zeppelin   |",
      "metadata": {}
    },
    {
      "cell_type": "markdown",
      "source": "**Exercise 7 - Create a markdown cell introducing arithmetic expression examples**: Add a line in this cell with H3 style heading with text like:\n\n### Below are a few examples of evaluating arithmetic expressions in Python",
      "metadata": {}
    },
    {
      "cell_type": "markdown",
      "source": "**Exercise 8 - Create a code cell to multiply and add numbers**: In this code cell evaluate the expression (3*4)+5.\nInsert a comment line before the expression to explain the operation e.g.  This a simple arithmetic expression to mutiply then add integers.\nThen execute the cell to ensure the expression returns the expected output of 17.",
      "metadata": {}
    },
    {
      "cell_type": "code",
      "source": "# This a simple arithmetic expression to mutiply then add integers.\n(3*4)+5",
      "metadata": {
        "trusted": true
      },
      "outputs": [
        {
          "execution_count": 3,
          "output_type": "execute_result",
          "data": {
            "text/plain": "17"
          },
          "metadata": {}
        }
      ],
      "execution_count": 3
    },
    {
      "cell_type": "markdown",
      "source": "**Exercise 9 - Create a code cell to convert minutes to hours**: In this code cell write an expression that converts 200 minutes into hours.\nInsert a comment line before the expression to explain the operation e.g. This will convert 200 minutes to hours by diving by 60.\nRun the cell to evaluate the expression.",
      "metadata": {}
    },
    {
      "cell_type": "code",
      "source": "# This will convert 200 minutes to hours by diving by 60.\nminutes = 200\nhours = minutes / 60 \nhours",
      "metadata": {
        "trusted": true
      },
      "outputs": [
        {
          "execution_count": 6,
          "output_type": "execute_result",
          "data": {
            "text/plain": "3.3333333333333335"
          },
          "metadata": {}
        }
      ],
      "execution_count": 6
    },
    {
      "cell_type": "markdown",
      "source": "**Exercise 10 - Insert a markdown cell to list Objectives**: Below the introduction cell created in Exercise 3, insert a new markdown cell to list the objectives that this notebook covered (i.e. some of the key takeaways from the course). In this new cell start with an introductory line titled: Objectives: in bold font. Then using an unordered list (bullets) indicate 3 to 5 items covered in this notebook, such as List popular languages for Data Science.\n\n(See Section Exercise 3)",
      "metadata": {}
    },
    {
      "cell_type": "markdown",
      "source": "**Exercise 11 - Create a markdown cell to indicate the Author's name**: In this markdown cell include the following text Author in H2 style heading. Include your name as regular text below the word Author.\n\n## Author\nPriya Ramdial",
      "metadata": {}
    },
    {
      "cell_type": "code",
      "source": "",
      "metadata": {
        "trusted": true
      },
      "outputs": [],
      "execution_count": null
    }
  ]
}